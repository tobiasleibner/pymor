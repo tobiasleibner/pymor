{
 "cells": [
  {
   "cell_type": "code",
   "execution_count": null,
   "metadata": {
    "lines_to_next_cell": 2
   },
   "outputs": [],
   "source": [
    "from pymor.analyticalproblems.domaindescriptions import RectDomain\n",
    "from pymor.analyticalproblems.elliptic import StationaryProblem\n",
    "from pymor.discretizers.builtin import discretize_stationary_cg\n",
    "from pymor.analyticalproblems.functions import ExpressionFunction, LincombFunction\n",
    "from pymor.parameters.functionals import ProjectionParameterFunctional, ExpressionParameterFunctional\n",
    "from time import sleep\n",
    "from ipywidgets import interact, widgets\n",
    "from pythreejs._example_helper import use_example_model_ids\n",
    "use_example_model_ids()"
   ]
  },
  {
   "cell_type": "code",
   "execution_count": null,
   "metadata": {},
   "outputs": [],
   "source": [
    "rhs = ExpressionFunction('(x[..., 0] - 0.5)**2 * 1000', 2, ())"
   ]
  },
  {
   "cell_type": "code",
   "execution_count": null,
   "metadata": {
    "lines_to_next_cell": 2
   },
   "outputs": [],
   "source": [
    "problem = StationaryProblem(\n",
    "        domain=RectDomain(),\n",
    "        rhs=rhs,\n",
    "        diffusion=LincombFunction(\n",
    "            [ExpressionFunction('1 - x[..., 0]', 2, ()), ExpressionFunction('x[..., 0]', 2, ())],\n",
    "            [ProjectionParameterFunctional('diffusionl'), 1]\n",
    "        ),\n",
    "        parameter_ranges=(0.01, 0.1),\n",
    "        name='2DProblem'\n",
    "    )"
   ]
  },
  {
   "cell_type": "code",
   "execution_count": null,
   "metadata": {
    "lines_to_next_cell": 2,
    "scrolled": true
   },
   "outputs": [],
   "source": [
    "args = {'N': 100, 'samples': 1}\n",
    "m, data = discretize_stationary_cg(problem, diameter=1. / args['N'])\n",
    "U = m.solution_space.empty()\n",
    "for mu in problem.parameter_space.sample_uniformly(args['samples']):\n",
    "    U.append(m.solve(mu))"
   ]
  },
  {
   "cell_type": "code",
   "execution_count": null,
   "metadata": {},
   "outputs": [],
   "source": [
    "Us = U * 1.5\n",
    "m.visualize((U, Us), title='Solution for diffusionl=0.5')\n"
   ]
  }
 ],
 "metadata": {
  "jupytext": {
   "formats": "ipynb,py:percent"
  },
  "kernelspec": {
   "display_name": "Python 3",
   "language": "python",
   "name": "python3"
  },
  "language_info": {
   "codemirror_mode": {
    "name": "ipython",
    "version": 3
   },
   "file_extension": ".py",
   "mimetype": "text/x-python",
   "name": "python",
   "nbconvert_exporter": "python",
   "pygments_lexer": "ipython3",
   "version": "3.7.6"
  }
 },
 "nbformat": 4,
 "nbformat_minor": 2
}
